{
 "cells": [
  {
   "cell_type": "code",
   "execution_count": 1,
   "id": "4152149e",
   "metadata": {},
   "outputs": [
    {
     "data": {
      "text/html": [
       "<div>\n",
       "<style scoped>\n",
       "    .dataframe tbody tr th:only-of-type {\n",
       "        vertical-align: middle;\n",
       "    }\n",
       "\n",
       "    .dataframe tbody tr th {\n",
       "        vertical-align: top;\n",
       "    }\n",
       "\n",
       "    .dataframe thead th {\n",
       "        text-align: right;\n",
       "    }\n",
       "</style>\n",
       "<table border=\"1\" class=\"dataframe\">\n",
       "  <thead>\n",
       "    <tr style=\"text-align: right;\">\n",
       "      <th></th>\n",
       "      <th>playerID</th>\n",
       "      <th>awardID</th>\n",
       "      <th>yearID</th>\n",
       "      <th>lgID</th>\n",
       "    </tr>\n",
       "  </thead>\n",
       "  <tbody>\n",
       "    <tr>\n",
       "      <th>0</th>\n",
       "      <td>bondto01</td>\n",
       "      <td>Pitching Triple Crown</td>\n",
       "      <td>1877</td>\n",
       "      <td>NL</td>\n",
       "    </tr>\n",
       "    <tr>\n",
       "      <th>1</th>\n",
       "      <td>hinespa01</td>\n",
       "      <td>Triple Crown</td>\n",
       "      <td>1878</td>\n",
       "      <td>NL</td>\n",
       "    </tr>\n",
       "    <tr>\n",
       "      <th>2</th>\n",
       "      <td>heckegu01</td>\n",
       "      <td>Pitching Triple Crown</td>\n",
       "      <td>1884</td>\n",
       "      <td>AA</td>\n",
       "    </tr>\n",
       "    <tr>\n",
       "      <th>3</th>\n",
       "      <td>radboch01</td>\n",
       "      <td>Pitching Triple Crown</td>\n",
       "      <td>1884</td>\n",
       "      <td>NL</td>\n",
       "    </tr>\n",
       "    <tr>\n",
       "      <th>4</th>\n",
       "      <td>oneilti01</td>\n",
       "      <td>Triple Crown</td>\n",
       "      <td>1887</td>\n",
       "      <td>AA</td>\n",
       "    </tr>\n",
       "    <tr>\n",
       "      <th>...</th>\n",
       "      <td>...</td>\n",
       "      <td>...</td>\n",
       "      <td>...</td>\n",
       "      <td>...</td>\n",
       "    </tr>\n",
       "    <tr>\n",
       "      <th>6526</th>\n",
       "      <td>reynobr01</td>\n",
       "      <td>TSN All-Star</td>\n",
       "      <td>2021</td>\n",
       "      <td>NL</td>\n",
       "    </tr>\n",
       "    <tr>\n",
       "      <th>6527</th>\n",
       "      <td>scherma01</td>\n",
       "      <td>TSN All-Star</td>\n",
       "      <td>2021</td>\n",
       "      <td>NL</td>\n",
       "    </tr>\n",
       "    <tr>\n",
       "      <th>6528</th>\n",
       "      <td>haderjo01</td>\n",
       "      <td>TSN All-Star</td>\n",
       "      <td>2021</td>\n",
       "      <td>NL</td>\n",
       "    </tr>\n",
       "    <tr>\n",
       "      <th>6529</th>\n",
       "      <td>friedma01</td>\n",
       "      <td>Silver Slugger</td>\n",
       "      <td>2021</td>\n",
       "      <td>NL</td>\n",
       "    </tr>\n",
       "    <tr>\n",
       "      <th>6530</th>\n",
       "      <td>ramirjo01</td>\n",
       "      <td>TSN All-Star</td>\n",
       "      <td>2021</td>\n",
       "      <td>AL</td>\n",
       "    </tr>\n",
       "  </tbody>\n",
       "</table>\n",
       "<p>6531 rows × 4 columns</p>\n",
       "</div>"
      ],
      "text/plain": [
       "       playerID                awardID  yearID lgID\n",
       "0      bondto01  Pitching Triple Crown    1877   NL\n",
       "1     hinespa01           Triple Crown    1878   NL\n",
       "2     heckegu01  Pitching Triple Crown    1884   AA\n",
       "3     radboch01  Pitching Triple Crown    1884   NL\n",
       "4     oneilti01           Triple Crown    1887   AA\n",
       "...         ...                    ...     ...  ...\n",
       "6526  reynobr01           TSN All-Star    2021   NL\n",
       "6527  scherma01           TSN All-Star    2021   NL\n",
       "6528  haderjo01           TSN All-Star    2021   NL\n",
       "6529  friedma01         Silver Slugger    2021   NL\n",
       "6530  ramirjo01           TSN All-Star    2021   AL\n",
       "\n",
       "[6531 rows x 4 columns]"
      ]
     },
     "execution_count": 1,
     "metadata": {},
     "output_type": "execute_result"
    }
   ],
   "source": [
    "import pandas as pd\n",
    "aa=pd.read_csv(\"aa.csv\")\n",
    "aa"
   ]
  },
  {
   "cell_type": "code",
   "execution_count": 3,
   "id": "ca1a6349",
   "metadata": {},
   "outputs": [
    {
     "name": "stdout",
     "output_type": "stream",
     "text": [
      "type temp in farenheit 200\n",
      "the temp in deg cel is 93\n"
     ]
    }
   ],
   "source": [
    "temp= input(\"type temp in farenheit \")\n",
    "deg= ((float(temp)-32)/9)*5\n",
    "print(\"the temp in deg cel is\", int(deg))\n"
   ]
  },
  {
   "cell_type": "code",
   "execution_count": 4,
   "id": "bfab87c8",
   "metadata": {},
   "outputs": [
    {
     "data": {
      "text/plain": [
       "float"
      ]
     },
     "execution_count": 4,
     "metadata": {},
     "output_type": "execute_result"
    }
   ],
   "source": [
    "type(deg)"
   ]
  },
  {
   "cell_type": "code",
   "execution_count": 6,
   "id": "6f0075c1",
   "metadata": {},
   "outputs": [
    {
     "data": {
      "text/plain": [
       "5.0"
      ]
     },
     "execution_count": 6,
     "metadata": {},
     "output_type": "execute_result"
    }
   ],
   "source": [
    "1 + 2 * 3 - 8 / 4"
   ]
  },
  {
   "cell_type": "code",
   "execution_count": 16,
   "id": "9a54cb57",
   "metadata": {},
   "outputs": [
    {
     "name": "stdout",
     "output_type": "stream",
     "text": [
      "_\n"
     ]
    }
   ],
   "source": [
    "ii=min(\"hello_worlsd\")\n",
    "print(ii)"
   ]
  },
  {
   "cell_type": "code",
   "execution_count": 2,
   "id": "19a503dc",
   "metadata": {},
   "outputs": [
    {
     "name": "stdout",
     "output_type": "stream",
     "text": [
      ".ma\n"
     ]
    }
   ],
   "source": [
    "data = 'From stephen.marquard@uct.ac.za Sat Jan  5 09:14:16 2008'\n",
    "pos = data.find('.')\n",
    "print(data[pos:pos+3])"
   ]
  }
 ],
 "metadata": {
  "kernelspec": {
   "display_name": "Python 3 (ipykernel)",
   "language": "python",
   "name": "python3"
  },
  "language_info": {
   "codemirror_mode": {
    "name": "ipython",
    "version": 3
   },
   "file_extension": ".py",
   "mimetype": "text/x-python",
   "name": "python",
   "nbconvert_exporter": "python",
   "pygments_lexer": "ipython3",
   "version": "3.9.7"
  }
 },
 "nbformat": 4,
 "nbformat_minor": 5
}
